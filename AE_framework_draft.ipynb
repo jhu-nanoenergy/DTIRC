{
  "cells": [
    {
      "cell_type": "markdown",
      "metadata": {
        "id": "view-in-github",
        "colab_type": "text"
      },
      "source": [
        "<a href=\"https://colab.research.google.com/github/jhu-nanoenergy/DTIRC/blob/main/AE_framework_draft.ipynb\" target=\"_parent\"><img src=\"https://colab.research.google.com/assets/colab-badge.svg\" alt=\"Open In Colab\"/></a>"
      ]
    },
    {
      "cell_type": "code",
      "source": [
        "# Helpful tutorial / example links\n",
        "# https://github.com/timbmg/VAE-CVAE-MNIST/blob/master/models.py\n",
        "# https://debuggercafe.com/getting-started-with-variational-autoencoder-using-pytorch/"
      ],
      "metadata": {
        "id": "DrTEONV63GMP"
      },
      "execution_count": 1,
      "outputs": []
    },
    {
      "cell_type": "code",
      "execution_count": 2,
      "metadata": {
        "id": "6ODhKbmW33xN"
      },
      "outputs": [],
      "source": [
        "import matplotlib.pyplot as plt\n",
        "import scipy.io as spio\n",
        "import scipy.stats as stat\n",
        "import pandas as pd\n",
        "import numpy as np\n",
        "import os\n",
        "import random\n",
        "\n",
        "os.environ['CUDA_LAUNCH_BLOCKING'] = \"1\"\n",
        "\n",
        "import torch\n",
        "import torchvision\n",
        "import torch.optim as optim\n",
        "import argparse\n",
        "import torch.nn as nn\n",
        "import torchvision.transforms as transforms\n",
        "import torch.nn.functional as F\n",
        "\n",
        "from tqdm import tqdm\n",
        "from torchvision import datasets\n",
        "from torch.utils.data import Dataset\n",
        "from torch.utils.data import DataLoader\n",
        "from torchvision.utils import save_image\n",
        "from torch.utils.checkpoint import checkpoint \n",
        "import h5py\n",
        "\n",
        "import gc\n",
        "\n",
        "!pip install -q -U torchinfo\n",
        "from torchinfo import summary\n",
        "\n",
        "plt.style.use('ggplot')"
      ]
    },
    {
      "cell_type": "code",
      "source": [
        "from google.colab import drive\n",
        "drive.mount(\"/content/drive/\", force_remount=True)\n"
      ],
      "metadata": {
        "colab": {
          "base_uri": "https://localhost:8080/"
        },
        "id": "jMnbMmc2rFYf",
        "outputId": "96612297-4f8c-49a1-d06e-4e19f03a9778"
      },
      "execution_count": 3,
      "outputs": [
        {
          "output_type": "stream",
          "name": "stdout",
          "text": [
            "Mounted at /content/drive/\n"
          ]
        }
      ]
    },
    {
      "cell_type": "code",
      "source": [
        "# hyperparameters\n",
        "full_data_num = 500 #amount of data to use from EACH int / ext dataset\n",
        "\n",
        "\n",
        "latent_features = 16\n",
        "epochs = 10\n",
        "lr = 0.05\n",
        "\n",
        "spec_points = 219\n",
        "num_segments = 2\n",
        "\n",
        "# for defining network\n",
        "fv = [256, 256, 512, 1024, 2048] #Channels/Convolutions of Images\n",
        "ks = 3 #kernel size\n",
        "feat_size = 512 #Feature Space Size\n",
        "mv_size = 20 #Latent space sampling size (mean and variance)"
      ],
      "metadata": {
        "id": "G4RlPDkpKAgl"
      },
      "execution_count": 4,
      "outputs": []
    },
    {
      "cell_type": "code",
      "execution_count": 5,
      "metadata": {
        "id": "z7W59gCK_7Vj"
      },
      "outputs": [],
      "source": [
        "\n",
        "\n",
        "# Get all data from drive\n",
        "int_data_all = spio.loadmat('/content/drive/MyDrive/Thon Group Master Folder/Sreyas/Photonic Crystals/Rockfish Training Data Gen/int_total_sqr_no_struct.mat', squeeze_me=True)\n",
        "# ext_data_all = spio.loadmat('/content/drive/MyDrive/Thon Group Master Folder/Sreyas/Photonic Crystals/Rockfish Training Data Gen/ext_total_sqr_no_struct.mat', squeeze_me=True)\n",
        "wavelengths = int_data_all['lambda']\n",
        "wavelengths = np.delete(wavelengths,np.where(wavelengths==[0.5]))\n",
        "wavelengths = np.delete(wavelengths,np.where(wavelengths==[1]))\n",
        "wavelengths = np.transpose(np.tile(wavelengths,(3,1)))"
      ]
    },
    {
      "cell_type": "code",
      "source": [
        "print(np.shape(wavelengths))"
      ],
      "metadata": {
        "colab": {
          "base_uri": "https://localhost:8080/"
        },
        "id": "WTa6njqJ2q1K",
        "outputId": "19228d9e-dca5-4d98-971f-ce4aba47e626"
      },
      "execution_count": 6,
      "outputs": [
        {
          "output_type": "stream",
          "name": "stdout",
          "text": [
            "(219, 3)\n"
          ]
        }
      ]
    },
    {
      "cell_type": "code",
      "execution_count": 7,
      "metadata": {
        "id": "RiUSPvdAFf5N",
        "colab": {
          "base_uri": "https://localhost:8080/"
        },
        "outputId": "f539a020-5029-49ab-971b-a4f32549b575"
      },
      "outputs": [
        {
          "output_type": "stream",
          "name": "stdout",
          "text": [
            "['ext', 'int']\n",
            "(22, 256, 256)\n"
          ]
        }
      ],
      "source": [
        "# print(torch.cuda.memory_summary(device=None, abbreviated=False))\n",
        "fname_mask = '/content/drive/MyDrive/Thon Group Master Folder/Sreyas/Photonic Crystals/Rockfish Training Data Gen/allData.h5'\n",
        "\n",
        "hdf_file = h5py.File(fname_mask, \"r\")\n",
        "print(list(hdf_file.keys()))\n",
        "\n",
        "# dext = hdf_file['ext']\n",
        "dext_spectra = hdf_file['ext/maskCell']\n",
        "dint_spectra = hdf_file['int/maskCell']\n",
        "combined = np.concatenate((dext_spectra[:11],dint_spectra[:11]), axis=0)\n",
        "# print(dext.keys())\n",
        "print(np.shape(combined))"
      ]
    },
    {
      "cell_type": "code",
      "execution_count": 8,
      "metadata": {
        "id": "i2L8E7dWSNBv"
      },
      "outputs": [],
      "source": [
        "class ImageDataset(Dataset):\n",
        "  #hf is the hdf5 file object\n",
        "  #datanum is the number of datapoints from EACH set that will be used in the model\n",
        "    def __init__(self,  hf, datanum, transform= transforms.Compose([ transforms.ToTensor(), transforms.ConvertImageDtype(dtype=torch.float)])  ):\n",
        "        super(Dataset, self).__init__()\n",
        "        dext_height = hf['ext/height']\n",
        "        dint_height = hf['int/height']\n",
        "        dext_spectra = hf['ext/spectCell']\n",
        "        dint_spectra = hf['int/spectCell']\n",
        "        self.spectra = torch.from_numpy(np.concatenate((dext_spectra[:datanum], dint_spectra[:datanum]), axis=0))\n",
        "        \n",
        "        self.heights = torch.from_numpy(np.concatenate((dext_height[:datanum],dint_height[:datanum]), axis=0))\n",
        "        # self.heights = htemp.unsqueeze(1)\n",
        "\n",
        "        self.masks = np.concatenate((hf['ext/maskCell'][:datanum],hf['int/maskCell'][:datanum]), axis=0)\n",
        "        # could use sreyas size calculation instead, not sure\n",
        "        self.sizes =  torch.from_numpy(np.concatenate((hf['ext/size'][:datanum],hf['int/size'])[:datanum], axis=0))\n",
        "        ext_label = np.ones((np.shape(dext_height)))\n",
        "        int_label = np.zeros((np.shape(dint_height)))\n",
        "        self.labels = torch.from_numpy(np.concatenate( (ext_label, int_label), axis=0))\n",
        "        self.transform = transform  \n",
        "              \n",
        "\n",
        "    def __len__(self):\n",
        "        return len(self.heights)\n",
        "\n",
        "    def __getitem__(self, idx):\n",
        "        image = (self.masks[idx,:,:])\n",
        "        \n",
        "        # height= np.around( self.heights[idx], decimals=1)\n",
        "        spectra = (( self.spectra[idx] ))\n",
        "        if self.transform:\n",
        "            image = self.transform(image)\n",
        "            \n",
        "\n",
        "        return image, spectra\n",
        "        # return image, spectra, height"
      ]
    },
    {
      "cell_type": "code",
      "source": [
        "class ModuleWrapperIgnores2ndArg(nn.Module):\n",
        "    def __init__(self, module):\n",
        "        super().__init__()\n",
        "        self.module = module\n",
        "\n",
        "    def forward(self,x, dummy_arg=None):\n",
        "        assert dummy_arg is not None\n",
        "        x = self.module(x)\n",
        "        return x\n",
        "\n",
        "class Encoder(nn.Module):\n",
        "  def __init__(self):\n",
        "    super().__init__()\n",
        "    # encoder, aka Feature Extraction Network\n",
        "    # self.enc1 = nn.Linear(in_features=(256*256), out_features=1024)\n",
        "    self.enc1 = nn.Sequential(\n",
        "            # Conv_1\n",
        "            nn.Conv2d(1, fv[0], kernel_size=ks, stride=1, padding=\"same\"),\n",
        "            nn.BatchNorm2d(fv[0]),\n",
        "            nn.ReLU( inplace=True),\n",
        "            \n",
        "            # Conv_2 + Pool_1\n",
        "            nn.Conv2d(fv[0], fv[1], kernel_size=ks,  stride=1, padding=\"same\"),\n",
        "            nn.BatchNorm2d(fv[1]),\n",
        "            nn.ReLU( inplace=True),     \n",
        "            nn.MaxPool2d(2,2),\n",
        "\n",
        "            # Conv_3 + Pool_2\n",
        "            nn.Conv2d(fv[1], fv[2], kernel_size=ks,  stride=1, padding=\"same\"),\n",
        "            nn.BatchNorm2d(fv[2]),\n",
        "            nn.ReLU( inplace=True),\n",
        "            nn.MaxPool2d(2,2),\n",
        "\n",
        "            # Conv_4 + Pool_3\n",
        "            nn.Conv2d(fv[2], fv[3], kernel_size=ks,  stride=1, padding=\"same\"),\n",
        "            nn.BatchNorm2d(fv[3]),\n",
        "            nn.ReLU(inplace=True),\n",
        "            nn.MaxPool2d(2,2),\n",
        "        )\n",
        "    self.enc2 = nn.Sequential(\n",
        "            nn.Linear(32*32*1024, feat_size) #reducing to 512\n",
        "        )\n",
        "\n",
        "    self.dummy_tensor = torch.ones(1, dtype=torch.float, requires_grad = True)\n",
        "    # self.dummy_tensor = torch.ones((bsize,1,256,256), dtype=torch.float, requires_grad = True)\n",
        "    self.module_wrapper = ModuleWrapperIgnores2ndArg(self.enc1)\n",
        "    # prediction network\n",
        "    self.pred1 = nn.Linear(in_features=512, out_features=(spec_points*3))\n",
        "\n",
        "    # recognition network\n",
        "    self.rec1 = nn.Linear(in_features=512 + (spec_points*3), out_features=latent_features*2)\n",
        "\n",
        "\n",
        "\n",
        "  def forward(self, x):\n",
        "    # encoding\n",
        "    # e = F.relu(self.enc1(x))\n",
        "    \n",
        "    x = (x.view(bsize, 1, 256, 256))\n",
        "    \n",
        "    \n",
        "    # e = self.enc1(x)\n",
        "    x = checkpoint(self.module_wrapper,x,self.dummy_tensor)\n",
        "\n",
        "    # x.requires_grad = True\n",
        "    # e = checkpoint_sequential(self.enc1, 10, x)\n",
        "\n",
        "    e = x.view(bsize,32*32*1024)\n",
        "    e = self.enc2(e)\n",
        "    \n",
        "    p = torch.sigmoid(self.pred1(e))\n",
        "    \n",
        "\n",
        "    input_rec = torch.cat((e,p), 1)\n",
        "\n",
        "    x = self.rec1(input_rec).view(-1, 2, latent_features)\n",
        "\n",
        "    # get `mu` and `log_var`\n",
        "    mu = x[:, 0, :] # the first feature values as mean\n",
        "    log_var = x[:, 1, :] # the other feature values as variance\n",
        "\n",
        "\n",
        "    return p, mu, log_var"
      ],
      "metadata": {
        "id": "m2NaHNYXom4C"
      },
      "execution_count": 9,
      "outputs": []
    },
    {
      "cell_type": "code",
      "source": [
        "class Decoder(nn.Module):\n",
        "  def __init__(self):\n",
        "    super().__init__()\n",
        "    # decoder \n",
        "    self.dec1 = nn.Linear(in_features= spec_points*3 +latent_features, out_features=512)\n",
        "    self.dec2 = nn.Linear(in_features=512, out_features=(256*256))\n",
        "\n",
        "\n",
        "  def forward(self, spectra,latent):\n",
        "    # encoding\n",
        "    input_dec = torch.cat((spectra,latent),1)\n",
        "\n",
        "    # decoding\n",
        "    x = F.relu(self.dec1(input_dec))\n",
        "    reconstruction =  torch.sigmoid(self.dec2(x) )\n",
        "    return reconstruction "
      ],
      "metadata": {
        "id": "qb-IS3NdpzEO"
      },
      "execution_count": 10,
      "outputs": []
    },
    {
      "cell_type": "code",
      "execution_count": 11,
      "metadata": {
        "id": "WJKSI3gy9t3Z"
      },
      "outputs": [],
      "source": [
        "# primary VAE module\n",
        "\n",
        "class CustomVAE(nn.Module):\n",
        "    def __init__(self):\n",
        "        super(CustomVAE, self).__init__()\n",
        "\n",
        "        self.encoder = Encoder()\n",
        "        self.decoder = Decoder()\n",
        "\n",
        "    def reparameterize(self, mu, log_var):\n",
        "        \"\"\"\n",
        "        :param mu: mean from the encoder's latent space\n",
        "        :param log_var: log variance from the encoder's latent space\n",
        "        \"\"\"\n",
        "        std = torch.exp(0.5*log_var) # standard deviation\n",
        "        eps = torch.randn_like(std) # `randn_like` as we need the same size\n",
        "        sample = mu + (eps * std) # sampling as if coming from the input space\n",
        "        return sample\n",
        "\n",
        "    def forward(self, x):\n",
        "      \n",
        "        spectra, mu, log_var  = self.encoder(x)        \n",
        "        # get the latent vector through reparameterization\n",
        "        z = self.reparameterize(mu, log_var)\n",
        "        recon_x = self.decoder( spectra, z )\n",
        "        return recon_x, mu, log_var, spectra\n",
        "\n",
        "    # DEFINE SPECTRA PREDICTION FUNCTION \n",
        "\n",
        "\n",
        "    def inference(self, spectra, z):\n",
        "      recon_x = self.decoder( spectra, z )\n",
        "      return recon_x\n",
        "\n"
      ]
    },
    {
      "cell_type": "code",
      "execution_count": 12,
      "metadata": {
        "id": "tW0UOB4UGbxz"
      },
      "outputs": [],
      "source": [
        "# DEFINE RANDOM SEED \n",
        "# CREATE VALIDATION SET AND FIX MEMORY ISSUES AHHHHHHHHHHH\n",
        "# print(torch.cuda.memory_summary(device=None, abbreviated=False))\n",
        "full_dataset = ImageDataset(hdf_file, full_data_num )"
      ]
    },
    {
      "cell_type": "code",
      "execution_count": 13,
      "metadata": {
        "colab": {
          "base_uri": "https://localhost:8080/"
        },
        "id": "GMUNitzHsbpu",
        "outputId": "7d243c74-76a9-4cb3-9783-4d0d869e7fe3"
      },
      "outputs": [
        {
          "output_type": "stream",
          "name": "stdout",
          "text": [
            "70\n",
            "10\n",
            "20\n",
            "1000\n"
          ]
        }
      ],
      "source": [
        "\n",
        "# print(torch.cuda.memory_summary(device=None, abbreviated=False))\n",
        "train_size = int(0.7 * len(full_dataset))\n",
        "val_size = int(0.2 * len(full_dataset))\n",
        "test_size = int(0.1 * len(full_dataset))\n",
        "data_temp, data_test = torch.utils.data.random_split(full_dataset, [train_size+val_size, test_size])\n",
        "\n",
        "data_train, data_val = torch.utils.data.random_split(data_temp, [train_size, val_size])\n",
        "bsize = 10 #don't make batch size bigger \n",
        "train_dataloader = DataLoader(data_train, batch_size = bsize, shuffle=True)\n",
        "test_dataloader = DataLoader(data_test, batch_size = bsize)\n",
        "valid_dataloader = DataLoader(data_val, batch_size = bsize)\n",
        "print(len(train_dataloader))\n",
        "print(len(test_dataloader))\n",
        "print(len(valid_dataloader))\n",
        "print(len(full_dataset))"
      ]
    },
    {
      "cell_type": "code",
      "source": [
        "# torch.cuda.empty_cache()\n",
        "\n",
        "del hdf_file, int_data_all, data_temp\n",
        "gc.collect()"
      ],
      "metadata": {
        "id": "ur8oPyVgd2UE",
        "colab": {
          "base_uri": "https://localhost:8080/"
        },
        "outputId": "691acb9d-bf96-4f36-b71f-dfa5e0eeb0c2"
      },
      "execution_count": 14,
      "outputs": [
        {
          "output_type": "execute_result",
          "data": {
            "text/plain": [
              "250"
            ]
          },
          "metadata": {},
          "execution_count": 14
        }
      ]
    },
    {
      "cell_type": "code",
      "execution_count": 15,
      "metadata": {
        "id": "9azelGQ_RpvB"
      },
      "outputs": [],
      "source": [
        "# print(torch.cuda.memory_summary(device=None, abbreviated=False))\n",
        "model_custom = CustomVAE().cuda()\n",
        "# print(summary(model_custom, input_size = (bsize,1,256,256)))\n",
        "# optimizer = optim.Adam(model_custom.parameters(), lr=lr)\n",
        "optimizer = optim.SGD(model_custom.parameters(), lr=lr)\n",
        "# print(\"took out bce loss idk!!!!!!!!!!!!!!!!!!!!!!!!!!!!!!!!!!!!!!!!!!!!!!!!!!!!!!!!!!!!!!!!!!!!!!!!!!!!!!!!!!!!!!!!!!!!!!!!!!!!!!!!!!!!!!!!!!!!!!!!!!!!!!!!!!!!!!!!!!!!!!!!!!!!!!!!!!!!!!!!!!!!\")\n",
        "criterion_mask = nn.BCELoss(reduction='sum')\n",
        "# criterion_mask = nn.MSELoss()\n",
        "criterion = nn.MSELoss()"
      ]
    },
    {
      "cell_type": "code",
      "execution_count": 16,
      "metadata": {
        "id": "Ag-qT_d6DluX"
      },
      "outputs": [],
      "source": [
        "def final_loss(loss1_bce, loss2_mse, mu, logvar):\n",
        "    \"\"\"\n",
        "    This function will add the reconstruction loss and the  KL-Divergence.\n",
        "    KL-Divergence = 0.5 * sum(1 + log(sigma^2) - mu^2 - sigma^2)\n",
        "    :param mu: the mean from the latent vector\n",
        "    :param logvar: log variance from the latent vector\n",
        "    \"\"\"\n",
        "    alpha = 2\n",
        "\n",
        "    KLD = -0.5 * torch.sum(1 + logvar - mu.pow(2) - logvar.exp())\n",
        "    return (loss1_bce + alpha*loss2_mse + KLD)\n",
        "\n"
      ]
    },
    {
      "cell_type": "code",
      "execution_count": 17,
      "metadata": {
        "id": "MYLRiGIgMw0a"
      },
      "outputs": [],
      "source": [
        "def fit(model, dataloader):\n",
        "    model.train()\n",
        "    running_loss = 0.0\n",
        "    for i, data in tqdm(enumerate(dataloader), total=int(len(train_dataloader)/dataloader.batch_size)):\n",
        "      if torch.cuda.is_available():\n",
        "        data, spectra_in = [d.cuda( ) for d in data]\n",
        "        data = data.view(data.size(0), -1)\n",
        "        optimizer.zero_grad()\n",
        "        \n",
        "        reconstruction, mu, logvar, out_spectra = model(data)\n",
        "        pout = out_spectra.view(-1, 3, spec_points)      \n",
        "        \n",
        "\n",
        "        # print(reconstruction.size())\n",
        "        # print(data.size())\n",
        "        # print(reconstruction)\n",
        "        # print(\"PRINTING RECONSTRUCTION\")\n",
        "        # print(reconstruction[reconstruction<0])\n",
        "        # print(reconstruction[reconstruction>1])\n",
        "        reconstruction = reconstruction.clamp(0,1) # clamp between 0 and 1\n",
        "        reconstruction[reconstruction!=reconstruction] = 0 # set NAN values to 0\n",
        "\n",
        "        bce_loss = criterion_mask(reconstruction, data)\n",
        "        mse_loss = criterion(spectra_in.float(), pout)\n",
        "        loss = final_loss(bce_loss, mse_loss, mu, logvar)\n",
        "        running_loss += loss.item()\n",
        "        loss.backward(retain_graph=False)\n",
        "        optimizer.step()\n",
        "    train_loss = running_loss/len(dataloader.dataset)\n",
        "    return train_loss\n",
        "    \n",
        "def validate(model, dataloader, plot_on):\n",
        "  model.eval()\n",
        "  running_loss = 0.0\n",
        "  with torch.no_grad():\n",
        "    for i, data in tqdm(enumerate(dataloader), total=int(len(valid_dataloader)/dataloader.batch_size)):\n",
        "        data, spectra_in = [d.cuda( ) for d in data]\n",
        "        data = data.view(data.size(0), -1)\n",
        "        reconstruction, mu, logvar, out_spectra = model(data)\n",
        "        pout = out_spectra.view(-1, 3, spec_points)\n",
        "\n",
        "        reconstruction = reconstruction.clamp(0,1) # clamp between 0 and 1\n",
        "        reconstruction[reconstruction!=reconstruction] = 0 # set NAN values to 0\n",
        "        \n",
        "        bce_loss = criterion_mask(reconstruction, data)\n",
        "        mse_loss = criterion(spectra_in.float(), pout)\n",
        "        loss = final_loss(bce_loss, mse_loss, mu, logvar)\n",
        "        running_loss += loss.item()\n",
        "\n",
        "        # save the last batch input and output \n",
        "        if plot_on:\n",
        "          if i == int(len(valid_dataloader)/dataloader.batch_size) - 1:\n",
        "        # if i == 14:   \n",
        "        # if i == 1:\n",
        "            # both = torch.cat((data.view(batch_size, 1, 256, 256)[:4],  \n",
        "            #                   reconstruction.view(batch_size, 1, 256, 256)[:4]))\n",
        "            print(\"MSE loss: \" + str(mse_loss))\n",
        "            num_replicas = 4\n",
        "            fig, axs = plt.subplots(2,num_replicas)\n",
        "            for x in range( num_replicas ):\n",
        "      \n",
        "              axs[0,x].imshow(torch.squeeze(data.view(bsize, 1, 256, 256)[x]).cpu())\n",
        "              axs[0,x].xaxis.set_visible(False)\n",
        "              axs[0,x].yaxis.set_visible(False)\n",
        "              axs[1,x].imshow(torch.squeeze(reconstruction.view(bsize, 1, 256, 256)[x]).cpu())\n",
        "              axs[1,x].xaxis.set_visible(False)\n",
        "              axs[1,x].yaxis.set_visible(False)\n",
        "            fig.suptitle(str(epoch+1))\n",
        "\n",
        "            og = spectra_in[0].detach().cpu().numpy()\n",
        "            pred = pout[0].detach().cpu().numpy()\n",
        "            \n",
        "            # pout = p.view(-1, 3, spec_points)\n",
        "            fig2, axs = plt.subplots(2,1)\n",
        "            axs[0].plot(wavelengths, np.transpose(og) )\n",
        "            axs[1].plot(wavelengths, np.transpose(pred) )\n",
        "            fig2.suptitle(str(epoch+1))\n",
        "            fig.savefig(f\"/content/drive/MyDrive/Thon Group Master Folder/Serene/Spectral Selectivity Project/outputs/{epoch+1}geom_output.png\")\n",
        "            fig2.savefig(f\"/content/drive/MyDrive/Thon Group Master Folder/Serene/Spectral Selectivity Project/outputs/{epoch+1}spectra_output.png\")\n",
        "            plt.show()\n",
        "    val_loss = running_loss/len(dataloader.dataset)\n",
        "    return val_loss"
      ]
    },
    {
      "cell_type": "code",
      "source": [
        "torch.cuda.synchronize()\n",
        "torch.cuda.empty_cache()\n",
        "print(torch.cuda.memory_summary(device=None, abbreviated=False))"
      ],
      "metadata": {
        "colab": {
          "base_uri": "https://localhost:8080/"
        },
        "id": "ltNHCfWckbEp",
        "outputId": "5b00b897-d7dd-4533-911c-0483a974109f"
      },
      "execution_count": 18,
      "outputs": [
        {
          "output_type": "stream",
          "name": "stdout",
          "text": [
            "|===========================================================================|\n",
            "|                  PyTorch CUDA memory summary, device ID 0                 |\n",
            "|---------------------------------------------------------------------------|\n",
            "|            CUDA OOMs: 0            |        cudaMalloc retries: 0         |\n",
            "|===========================================================================|\n",
            "|        Metric         | Cur Usage  | Peak Usage | Tot Alloc  | Tot Freed  |\n",
            "|---------------------------------------------------------------------------|\n",
            "| Allocated memory      |    2203 MB |    2203 MB |    2203 MB |       0 B  |\n",
            "|       from large pool |    2203 MB |    2203 MB |    2203 MB |       0 B  |\n",
            "|       from small pool |       0 MB |       0 MB |       0 MB |       0 B  |\n",
            "|---------------------------------------------------------------------------|\n",
            "| Active memory         |    2203 MB |    2203 MB |    2203 MB |       0 B  |\n",
            "|       from large pool |    2203 MB |    2203 MB |    2203 MB |       0 B  |\n",
            "|       from small pool |       0 MB |       0 MB |       0 MB |       0 B  |\n",
            "|---------------------------------------------------------------------------|\n",
            "| GPU reserved memory   |    2216 MB |    2216 MB |    2216 MB |       0 B  |\n",
            "|       from large pool |    2214 MB |    2214 MB |    2214 MB |       0 B  |\n",
            "|       from small pool |       2 MB |       2 MB |       2 MB |       0 B  |\n",
            "|---------------------------------------------------------------------------|\n",
            "| Non-releasable memory |   12495 KB |   20209 KB |   20215 KB |    7720 KB |\n",
            "|       from large pool |   10908 KB |   18176 KB |   18176 KB |    7268 KB |\n",
            "|       from small pool |    1587 KB |    2039 KB |    2039 KB |     452 KB |\n",
            "|---------------------------------------------------------------------------|\n",
            "| Allocations           |      38    |      38    |      38    |       0    |\n",
            "|       from large pool |       7    |       7    |       7    |       0    |\n",
            "|       from small pool |      31    |      31    |      31    |       0    |\n",
            "|---------------------------------------------------------------------------|\n",
            "| Active allocs         |      38    |      38    |      38    |       0    |\n",
            "|       from large pool |       7    |       7    |       7    |       0    |\n",
            "|       from small pool |      31    |      31    |      31    |       0    |\n",
            "|---------------------------------------------------------------------------|\n",
            "| GPU reserved segments |       5    |       5    |       5    |       0    |\n",
            "|       from large pool |       4    |       4    |       4    |       0    |\n",
            "|       from small pool |       1    |       1    |       1    |       0    |\n",
            "|---------------------------------------------------------------------------|\n",
            "| Non-releasable allocs |       2    |       2    |       2    |       0    |\n",
            "|       from large pool |       1    |       1    |       1    |       0    |\n",
            "|       from small pool |       1    |       1    |       1    |       0    |\n",
            "|---------------------------------------------------------------------------|\n",
            "| Oversize allocations  |       0    |       0    |       0    |       0    |\n",
            "|---------------------------------------------------------------------------|\n",
            "| Oversize GPU segments |       0    |       0    |       0    |       0    |\n",
            "|===========================================================================|\n",
            "\n"
          ]
        }
      ]
    },
    {
      "cell_type": "code",
      "execution_count": 19,
      "metadata": {
        "colab": {
          "base_uri": "https://localhost:8080/",
          "height": 1000
        },
        "id": "AhnrQZhnVF4t",
        "outputId": "ca3cd4c5-205f-4e46-e9b3-443172e84d43"
      },
      "outputs": [
        {
          "output_type": "stream",
          "name": "stdout",
          "text": [
            "Epoch 1 of 10\n"
          ]
        },
        {
          "output_type": "stream",
          "name": "stderr",
          "text": [
            "70it [00:23,  2.93it/s]\n",
            "  0%|          | 0/2 [00:00<?, ?it/s]"
          ]
        },
        {
          "output_type": "stream",
          "name": "stdout",
          "text": [
            "MSE loss: tensor(nan, device='cuda:0')\n"
          ]
        },
        {
          "output_type": "display_data",
          "data": {
            "text/plain": [
              "<Figure size 432x288 with 8 Axes>"
            ],
            "image/png": "[encoded data removed]"
          },
          "metadata": {}
        },
        {
          "output_type": "display_data",
          "data": {
            "text/plain": [
              "<Figure size 432x288 with 2 Axes>"
            ],
            "image/png": "[encoded data removed]"
          },
          "metadata": {}
        },
        {
          "output_type": "stream",
          "name": "stderr",
          "text": [
            "20it [00:05,  3.88it/s]\n"
          ]
        },
        {
          "output_type": "stream",
          "name": "stdout",
          "text": [
            "Train Loss: nan\n",
            "Val Loss: nan\n",
            "Epoch 2 of 10\n"
          ]
        },
        {
          "output_type": "stream",
          "name": "stderr",
          "text": [
            "70it [00:23,  2.94it/s]\n",
            "20it [00:01, 10.65it/s]\n"
          ]
        },
        {
          "output_type": "stream",
          "name": "stdout",
          "text": [
            "Train Loss: nan\n",
            "Val Loss: nan\n",
            "Epoch 3 of 10\n"
          ]
        },
        {
          "output_type": "stream",
          "name": "stderr",
          "text": [
            "70it [00:23,  2.94it/s]\n",
            "20it [00:01, 10.70it/s]\n"
          ]
        },
        {
          "output_type": "stream",
          "name": "stdout",
          "text": [
            "Train Loss: nan\n",
            "Val Loss: nan\n",
            "Epoch 4 of 10\n"
          ]
        },
        {
          "output_type": "stream",
          "name": "stderr",
          "text": [
            "70it [00:23,  2.94it/s]\n",
            "20it [00:01, 10.69it/s]\n"
          ]
        },
        {
          "output_type": "stream",
          "name": "stdout",
          "text": [
            "Train Loss: nan\n",
            "Val Loss: nan\n",
            "Epoch 5 of 10\n"
          ]
        },
        {
          "output_type": "stream",
          "name": "stderr",
          "text": [
            "70it [00:23,  2.94it/s]\n",
            "  0%|          | 0/2 [00:00<?, ?it/s]"
          ]
        },
        {
          "output_type": "stream",
          "name": "stdout",
          "text": [
            "MSE loss: tensor(nan, device='cuda:0')\n"
          ]
        },
        {
          "output_type": "display_data",
          "data": {
            "text/plain": [
              "<Figure size 432x288 with 8 Axes>"
            ],
            "image/png": "[encoded data removed]"
          },
          "metadata": {}
        },
        {
          "output_type": "display_data",
          "data": {
            "text/plain": [
              "<Figure size 432x288 with 2 Axes>"
            ],
            "image/png": "[encoded data removed]"
          },
          "metadata": {}
        },
        {
          "output_type": "stream",
          "name": "stderr",
          "text": [
            "20it [00:03,  5.63it/s]\n"
          ]
        },
        {
          "output_type": "stream",
          "name": "stdout",
          "text": [
            "Train Loss: nan\n",
            "Val Loss: nan\n",
            "Epoch 6 of 10\n"
          ]
        },
        {
          "output_type": "stream",
          "name": "stderr",
          "text": [
            "70it [00:23,  2.94it/s]\n",
            "20it [00:01, 10.71it/s]\n"
          ]
        },
        {
          "output_type": "stream",
          "name": "stdout",
          "text": [
            "Train Loss: nan\n",
            "Val Loss: nan\n",
            "Epoch 7 of 10\n"
          ]
        },
        {
          "output_type": "stream",
          "name": "stderr",
          "text": [
            "70it [00:23,  2.94it/s]\n",
            "20it [00:01, 10.67it/s]\n"
          ]
        },
        {
          "output_type": "stream",
          "name": "stdout",
          "text": [
            "Train Loss: nan\n",
            "Val Loss: nan\n",
            "Epoch 8 of 10\n"
          ]
        },
        {
          "output_type": "stream",
          "name": "stderr",
          "text": [
            "70it [00:23,  2.94it/s]\n",
            "20it [00:01, 10.64it/s]\n"
          ]
        },
        {
          "output_type": "stream",
          "name": "stdout",
          "text": [
            "Train Loss: nan\n",
            "Val Loss: nan\n",
            "Epoch 9 of 10\n"
          ]
        },
        {
          "output_type": "stream",
          "name": "stderr",
          "text": [
            "70it [00:23,  2.94it/s]\n",
            "20it [00:01, 10.64it/s]\n"
          ]
        },
        {
          "output_type": "stream",
          "name": "stdout",
          "text": [
            "Train Loss: nan\n",
            "Val Loss: nan\n",
            "Epoch 10 of 10\n"
          ]
        },
        {
          "output_type": "stream",
          "name": "stderr",
          "text": [
            "70it [00:23,  2.94it/s]\n",
            "  0%|          | 0/2 [00:00<?, ?it/s]"
          ]
        },
        {
          "output_type": "stream",
          "name": "stdout",
          "text": [
            "MSE loss: tensor(nan, device='cuda:0')\n"
          ]
        },
        {
          "output_type": "display_data",
          "data": {
            "text/plain": [
              "<Figure size 432x288 with 8 Axes>"
            ],
            "image/png": "[encoded data removed]"
          },
          "metadata": {}
        },
        {
          "output_type": "display_data",
          "data": {
            "text/plain": [
              "<Figure size 432x288 with 2 Axes>"
            ],
            "image/png": "[encoded data removed]"
          },
          "metadata": {}
        },
        {
          "output_type": "stream",
          "name": "stderr",
          "text": [
            "20it [00:03,  5.65it/s]"
          ]
        },
        {
          "output_type": "stream",
          "name": "stdout",
          "text": [
            "Train Loss: nan\n",
            "Val Loss: nan\n"
          ]
        },
        {
          "output_type": "stream",
          "name": "stderr",
          "text": [
            "\n"
          ]
        }
      ],
      "source": [
        "\n",
        "train_loss = []\n",
        "val_loss = []\n",
        "for epoch in range(epochs):\n",
        "    print(f\"Epoch {epoch+1} of {epochs}\")\n",
        "    torch.cuda.synchronize()\n",
        "    torch.cuda.empty_cache()\n",
        "    \n",
        "    train_epoch_loss = fit(model_custom, train_dataloader)\n",
        "    if epoch == 0 or not ((epoch+1) % 5):\n",
        "      val_epoch_loss = validate(model_custom, valid_dataloader, 1)\n",
        "    else:\n",
        "      val_epoch_loss = validate(model_custom, valid_dataloader, 0)\n",
        "    train_loss.append(train_epoch_loss)\n",
        "    val_loss.append(val_epoch_loss)\n",
        "    print(f\"Train Loss: {train_epoch_loss:.4f}\")\n",
        "    print(f\"Val Loss: {val_epoch_loss:.4f}\")"
      ]
    },
    {
      "cell_type": "code",
      "source": [
        "!nvidia-smi"
      ],
      "metadata": {
        "id": "YjHbx9VYvYtB",
        "colab": {
          "base_uri": "https://localhost:8080/"
        },
        "outputId": "c8dcf8a3-a273-4cf9-ba0f-dfdafd939e71"
      },
      "execution_count": 20,
      "outputs": [
        {
          "output_type": "stream",
          "name": "stdout",
          "text": [
            "Thu Mar 17 01:07:31 2022       \n",
            "+-----------------------------------------------------------------------------+\n",
            "| NVIDIA-SMI 460.32.03    Driver Version: 460.32.03    CUDA Version: 11.2     |\n",
            "|-------------------------------+----------------------+----------------------+\n",
            "| GPU  Name        Persistence-M| Bus-Id        Disp.A | Volatile Uncorr. ECC |\n",
            "| Fan  Temp  Perf  Pwr:Usage/Cap|         Memory-Usage | GPU-Util  Compute M. |\n",
            "|                               |                      |               MIG M. |\n",
            "|===============================+======================+======================|\n",
            "|   0  Tesla V100-SXM2...  Off  | 00000000:00:04.0 Off |                    0 |\n",
            "| N/A   47C    P0    51W / 300W |  12665MiB / 16160MiB |     46%      Default |\n",
            "|                               |                      |                  N/A |\n",
            "+-------------------------------+----------------------+----------------------+\n",
            "                                                                               \n",
            "+-----------------------------------------------------------------------------+\n",
            "| Processes:                                                                  |\n",
            "|  GPU   GI   CI        PID   Type   Process name                  GPU Memory |\n",
            "|        ID   ID                                                   Usage      |\n",
            "|=============================================================================|\n",
            "+-----------------------------------------------------------------------------+\n"
          ]
        }
      ]
    },
    {
      "cell_type": "code",
      "execution_count": 21,
      "metadata": {
        "id": "L7kljCxrqckm",
        "colab": {
          "base_uri": "https://localhost:8080/"
        },
        "outputId": "b95bdc6e-60eb-4da1-c048-23aeaf3858f5"
      },
      "outputs": [
        {
          "output_type": "stream",
          "name": "stdout",
          "text": [
            "1.10.0+cu111\n"
          ]
        }
      ],
      "source": [
        "print(torch.__version__)"
      ]
    },
    {
      "cell_type": "code",
      "execution_count": 21,
      "metadata": {
        "id": "As4mNCuKq392"
      },
      "outputs": [],
      "source": [
        ""
      ]
    },
    {
      "cell_type": "code",
      "source": [
        ""
      ],
      "metadata": {
        "id": "9U6jxCOke_QU"
      },
      "execution_count": 21,
      "outputs": []
    }
  ],
  "metadata": {
    "accelerator": "GPU",
    "colab": {
      "collapsed_sections": [],
      "name": "AE-framework-draft.ipynb",
      "provenance": [],
      "machine_shape": "hm",
      "background_execution": "on",
      "include_colab_link": true
    },
    "kernelspec": {
      "display_name": "Python 3",
      "name": "python3"
    },
    "language_info": {
      "name": "python"
    }
  },
  "nbformat": 4,
  "nbformat_minor": 0
}